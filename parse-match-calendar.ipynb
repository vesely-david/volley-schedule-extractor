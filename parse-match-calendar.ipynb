{
 "cells": [
  {
   "cell_type": "code",
   "execution_count": 65,
   "metadata": {},
   "outputs": [],
   "source": [
    "import pandas as pd\n",
    "from ics import Calendar"
   ]
  },
  {
   "cell_type": "code",
   "execution_count": 29,
   "metadata": {},
   "outputs": [],
   "source": [
    "TEAM = 'Dobříš A'"
   ]
  },
  {
   "cell_type": "code",
   "execution_count": 9,
   "metadata": {},
   "outputs": [],
   "source": [
    "with open('2020-podzim.ics') as file:\n",
    "    lines = file.readlines()"
   ]
  },
  {
   "cell_type": "code",
   "execution_count": 66,
   "metadata": {},
   "outputs": [],
   "source": [
    "calendar = Calendar(\"\\n\".join(lines))\n",
    "\n",
    "events = sorted(list(calendar.events))\n",
    "events = [e for e in events if TEAM in e.name]\n",
    "\n",
    "matches = []\n",
    "for first in events[::2]:\n",
    "    cell_1 = first.name.replace('ST-M-1: ', '').replace('-', ' - ')\n",
    "    cell_2 = first.end.date().strftime(\"%-d.%-m.%Y\")\n",
    "    cell_3 = first.end.datetime.strftime(\"%H:%M\")\n",
    "    matches.append([cell_1, cell_2, cell_3])\n",
    "    \n",
    "matches = pd.DataFrame(matches).transpose()"
   ]
  },
  {
   "cell_type": "code",
   "execution_count": 67,
   "metadata": {},
   "outputs": [
    {
     "data": {
      "text/html": [
       "<div>\n",
       "<style scoped>\n",
       "    .dataframe tbody tr th:only-of-type {\n",
       "        vertical-align: middle;\n",
       "    }\n",
       "\n",
       "    .dataframe tbody tr th {\n",
       "        vertical-align: top;\n",
       "    }\n",
       "\n",
       "    .dataframe thead th {\n",
       "        text-align: right;\n",
       "    }\n",
       "</style>\n",
       "<table border=\"1\" class=\"dataframe\">\n",
       "  <thead>\n",
       "    <tr style=\"text-align: right;\">\n",
       "      <th></th>\n",
       "      <th>0</th>\n",
       "      <th>1</th>\n",
       "      <th>2</th>\n",
       "      <th>3</th>\n",
       "      <th>4</th>\n",
       "      <th>5</th>\n",
       "      <th>6</th>\n",
       "      <th>7</th>\n",
       "      <th>8</th>\n",
       "      <th>9</th>\n",
       "      <th>10</th>\n",
       "      <th>11</th>\n",
       "      <th>12</th>\n",
       "      <th>13</th>\n",
       "      <th>14</th>\n",
       "      <th>15</th>\n",
       "    </tr>\n",
       "  </thead>\n",
       "  <tbody>\n",
       "    <tr>\n",
       "      <th>0</th>\n",
       "      <td>Dobříš A - Vlašim</td>\n",
       "      <td>Zruč nad Sázavou - Dobříš A</td>\n",
       "      <td>Dobříš A - Mělník</td>\n",
       "      <td>Dobřichovice B - Dobříš A</td>\n",
       "      <td>Dobříš A - Sedlčany</td>\n",
       "      <td>Nymburk - Dobříš A</td>\n",
       "      <td>Dobříš A - Tuchlovice</td>\n",
       "      <td>Roztoky - Dobříš A</td>\n",
       "      <td>Vlašim - Dobříš A</td>\n",
       "      <td>Dobříš A - Zruč nad Sázavou</td>\n",
       "      <td>Mělník - Dobříš A</td>\n",
       "      <td>Dobříš A - Dobřichovice B</td>\n",
       "      <td>Sedlčany - Dobříš A</td>\n",
       "      <td>Dobříš A - Nymburk</td>\n",
       "      <td>Tuchlovice - Dobříš A</td>\n",
       "      <td>Dobříš A - Roztoky</td>\n",
       "    </tr>\n",
       "    <tr>\n",
       "      <th>1</th>\n",
       "      <td>10.10.2020</td>\n",
       "      <td>17.10.2020</td>\n",
       "      <td>24.10.2020</td>\n",
       "      <td>7.11.2020</td>\n",
       "      <td>14.11.2020</td>\n",
       "      <td>21.11.2020</td>\n",
       "      <td>28.11.2020</td>\n",
       "      <td>5.12.2020</td>\n",
       "      <td>16.1.2021</td>\n",
       "      <td>23.1.2021</td>\n",
       "      <td>6.2.2021</td>\n",
       "      <td>13.2.2021</td>\n",
       "      <td>20.2.2021</td>\n",
       "      <td>6.3.2021</td>\n",
       "      <td>13.3.2021</td>\n",
       "      <td>20.3.2021</td>\n",
       "    </tr>\n",
       "    <tr>\n",
       "      <th>2</th>\n",
       "      <td>10:00</td>\n",
       "      <td>10:00</td>\n",
       "      <td>09:00</td>\n",
       "      <td>11:00</td>\n",
       "      <td>10:00</td>\n",
       "      <td>11:00</td>\n",
       "      <td>10:00</td>\n",
       "      <td>12:00</td>\n",
       "      <td>11:00</td>\n",
       "      <td>11:00</td>\n",
       "      <td>11:00</td>\n",
       "      <td>11:00</td>\n",
       "      <td>11:00</td>\n",
       "      <td>11:00</td>\n",
       "      <td>11:00</td>\n",
       "      <td>11:00</td>\n",
       "    </tr>\n",
       "  </tbody>\n",
       "</table>\n",
       "</div>"
      ],
      "text/plain": [
       "                   0                            1                  2  \\\n",
       "0  Dobříš A - Vlašim  Zruč nad Sázavou - Dobříš A  Dobříš A - Mělník   \n",
       "1         10.10.2020                   17.10.2020         24.10.2020   \n",
       "2              10:00                        10:00              09:00   \n",
       "\n",
       "                           3                    4                   5  \\\n",
       "0  Dobřichovice B - Dobříš A  Dobříš A - Sedlčany  Nymburk - Dobříš A   \n",
       "1                  7.11.2020           14.11.2020          21.11.2020   \n",
       "2                      11:00                10:00               11:00   \n",
       "\n",
       "                       6                   7                  8  \\\n",
       "0  Dobříš A - Tuchlovice  Roztoky - Dobříš A  Vlašim - Dobříš A   \n",
       "1             28.11.2020           5.12.2020          16.1.2021   \n",
       "2                  10:00               12:00              11:00   \n",
       "\n",
       "                             9                 10                         11  \\\n",
       "0  Dobříš A - Zruč nad Sázavou  Mělník - Dobříš A  Dobříš A - Dobřichovice B   \n",
       "1                    23.1.2021           6.2.2021                  13.2.2021   \n",
       "2                        11:00              11:00                      11:00   \n",
       "\n",
       "                    12                  13                     14  \\\n",
       "0  Sedlčany - Dobříš A  Dobříš A - Nymburk  Tuchlovice - Dobříš A   \n",
       "1            20.2.2021            6.3.2021              13.3.2021   \n",
       "2                11:00               11:00                  11:00   \n",
       "\n",
       "                   15  \n",
       "0  Dobříš A - Roztoky  \n",
       "1           20.3.2021  \n",
       "2               11:00  "
      ]
     },
     "execution_count": 67,
     "metadata": {},
     "output_type": "execute_result"
    }
   ],
   "source": [
    "matches"
   ]
  },
  {
   "cell_type": "code",
   "execution_count": null,
   "metadata": {},
   "outputs": [],
   "source": []
  }
 ],
 "metadata": {
  "kernelspec": {
   "display_name": "absa_local",
   "language": "python",
   "name": "absa_local"
  },
  "language_info": {
   "codemirror_mode": {
    "name": "ipython",
    "version": 3
   },
   "file_extension": ".py",
   "mimetype": "text/x-python",
   "name": "python",
   "nbconvert_exporter": "python",
   "pygments_lexer": "ipython3",
   "version": "3.6.10"
  }
 },
 "nbformat": 4,
 "nbformat_minor": 4
}
